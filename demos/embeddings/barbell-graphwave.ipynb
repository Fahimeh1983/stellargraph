{
 "cells": [
  {
   "cell_type": "markdown",
   "metadata": {},
   "source": [
    "# GraphWave aglorithm on a barbell graph\n",
    "\n",
    "This demo features the algorithm GraphWave published in \"Learning Structural Node Embeddings via Diffusion Wavelets\" [https://arxiv.org/pdf/1710.10321.pdf]. GraphWave embeds the structural features of a node in a dense embeddings. We will demonstrate the use of GraphWave on a barbell graph demonstrating that structurally equivalent nodes have similar embeddings."
   ]
  },
  {
   "cell_type": "markdown",
   "metadata": {},
   "source": [
    "First, we load the required libraries."
   ]
  },
  {
   "cell_type": "code",
   "execution_count": 1,
   "metadata": {},
   "outputs": [],
   "source": [
    "import networkx as nx\n",
    "from stellargraph.mapper import GraphWaveGenerator\n",
    "from stellargraph import StellarGraph\n",
    "from sklearn.decomposition import PCA\n",
    "import numpy as np\n",
    "from matplotlib import pyplot as plt\n",
    "from scipy.sparse.linalg import eigs\n",
    "import tensorflow as tf\n",
    "from tensorflow.keras import backend as K"
   ]
  },
  {
   "cell_type": "markdown",
   "metadata": {},
   "source": [
    "### Graph construction\n",
    "\n",
    "Next, we construct the barbel graph, shown below. The barbell graph consists of 2 fully connected graphs (at the 'ends' of the graph) connected by a chain of nodes. All nodes in the fully connected ends are strucuturally equivalent, as the are opposite nodes in the chain. A good strucutural embedding algorithm should embed equivalent nodes close togethed in the embedding space."
   ]
  },
  {
   "cell_type": "code",
   "execution_count": 2,
   "metadata": {},
   "outputs": [
    {
     "data": {
      "image/png": "[encoded data removed]",
      "text/plain": [
       "<Figure size 432x288 with 1 Axes>"
      ]
     },
     "metadata": {},
     "output_type": "display_data"
    }
   ],
   "source": [
    "m1 = 7\n",
    "m2 = 7\n",
    "gnx = nx.barbell_graph(m1=m1, m2=m2)\n",
    "nx.draw(gnx)"
   ]
  },
  {
   "cell_type": "markdown",
   "metadata": {},
   "source": [
    "### GraphWave embedding calculation\n",
    "\n",
    "Now, we're ready to calculate the GraphWave embeddings. We need to specify the points to sample the characteristic function. We need to specify: \n",
    "\n",
    "- the wavelet `scales` to the use. This is a graph dependant hyperparameter. Experiment with different values or use the `scales=\"auto\"` option\n",
    "- the number of eigen vectors to use `num_eigenvecs`. A larger number of eigenvectors will yield better results but is more computationally expensive. `num_eigenvecs=-1` will calculate all eigenvectors.\n",
    "- the `sample_points` at which to sample the characteristic function. This should be: `sample_points=np.linspace(0, max_val, number_of_samples)` and is graph dependant."
   ]
  },
  {
   "cell_type": "code",
   "execution_count": 19,
   "metadata": {},
   "outputs": [
    {
     "name": "stdout",
     "output_type": "stream",
     "text": [
      "WARNING:tensorflow:Entity <function GraphWaveGenerator.flow.<locals>.<lambda> at 0x14a0b9ea0> could not be transformed and will be executed as-is. Please report this to the AutoGraph team. When filing the bug, set the verbosity to 10 (on Linux, `export AUTOGRAPH_VERBOSITY=10`) and attach the full output. Cause: expected exactly one node node, found []\n",
      "WARNING: Entity <function GraphWaveGenerator.flow.<locals>.<lambda> at 0x14a0b9ea0> could not be transformed and will be executed as-is. Please report this to the AutoGraph team. When filing the bug, set the verbosity to 10 (on Linux, `export AUTOGRAPH_VERBOSITY=10`) and attach the full output. Cause: expected exactly one node node, found []\n",
      "WARNING:tensorflow:Entity <function GraphWaveGenerator.flow.<locals>.<lambda> at 0x14a0b9c80> could not be transformed and will be executed as-is. Please report this to the AutoGraph team. When filing the bug, set the verbosity to 10 (on Linux, `export AUTOGRAPH_VERBOSITY=10`) and attach the full output. Cause: expected exactly one node node, found []\n",
      "WARNING: Entity <function GraphWaveGenerator.flow.<locals>.<lambda> at 0x14a0b9c80> could not be transformed and will be executed as-is. Please report this to the AutoGraph team. When filing the bug, set the verbosity to 10 (on Linux, `export AUTOGRAPH_VERBOSITY=10`) and attach the full output. Cause: expected exactly one node node, found []\n"
     ]
    },
    {
     "data": {
      "text/plain": [
       "(1, 128)"
      ]
     },
     "execution_count": 19,
     "metadata": {},
     "output_type": "execute_result"
    }
   ],
   "source": [
    "G = StellarGraph(gnx)\n",
    "sample_points = np.linspace(0, 100, 32).astype(np.float32)\n",
    "\n",
    "generator = GraphWaveGenerator(\n",
    "    G, scales=[10.0, 30.0], \n",
    "    num_eigenvecs=-1,\n",
    ")\n",
    "\n",
    "embeddings_dataset = generator.flow(\n",
    "    node_ids=G.nodes(), sample_points=sample_points, \n",
    "    batch_size=1, repeat=False\n",
    ")\n",
    "\n",
    "embeddings = [x.numpy() for x in embeddings_dataset]"
   ]
  },
  {
   "cell_type": "markdown",
   "metadata": {},
   "source": [
    "### Visualation\n",
    "\n",
    "The nodes are coloured by their structural role, e.g. in the connected component, 1st node in the chain, 2nd node in the chain etc. We can see that all nodes of the same colour completely overlap in this visualation, indicating that structurally equivalent nodes are very close in the embedding space."
   ]
  },
  {
   "cell_type": "code",
   "execution_count": 20,
   "metadata": {},
   "outputs": [
    {
     "data": {
      "image/png": "[encoded data removed]",
      "text/plain": [
       "<Figure size 432x288 with 1 Axes>"
      ]
     },
     "metadata": {
      "needs_background": "light"
     },
     "output_type": "display_data"
    }
   ],
   "source": [
    "classes = [0,] * len(gnx.nodes)\n",
    "classes[m1 - 1] = 1\n",
    "classes[m1 + m2] = 1\n",
    "classes[m1 : (m1 + m2)] = list(abs(x) + 2 for x in range(m2 // 2, -m2 // 2, -1))\n",
    "\n",
    "trans_emb = PCA(n_components=2).fit_transform(np.vstack(embeddings))\n",
    "\n",
    "plt.scatter(\n",
    "    trans_emb[:, 0], trans_emb[:, 1], c=classes, cmap=\"jet\", alpha=0.7,\n",
    ")\n",
    "plt.show()"
   ]
  }
 ],
 "metadata": {
  "kernelspec": {
   "display_name": "Python 3",
   "language": "python",
   "name": "python3"
  },
  "language_info": {
   "codemirror_mode": {
    "name": "ipython",
    "version": 3
   },
   "file_extension": ".py",
   "mimetype": "text/x-python",
   "name": "python",
   "nbconvert_exporter": "python",
   "pygments_lexer": "ipython3",
   "version": "3.6.9"
  }
 },
 "nbformat": 4,
 "nbformat_minor": 2
}
