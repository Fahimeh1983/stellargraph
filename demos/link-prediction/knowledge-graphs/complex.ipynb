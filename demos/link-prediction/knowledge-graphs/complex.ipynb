{
 "cells": [
  {
   "cell_type": "markdown",
   "metadata": {},
   "source": [
    "# ComplEx on WN18 and FB15K\n",
    "\n",
    "This notebook reproduces the experiments done in the paper that introduced the ComplEx algorith: Complex Embeddings for Simple Link Prediction, Théo Trouillon, Johannes Welbl, Sebastian Riedel, Éric Gaussier and Guillaume Bouchard, ICML 2016. http://jmlr.org/proceedings/papers/v48/trouillon16.pdf\n",
    "\n",
    "In table 4, the paper reports five metrics measured on the WN18 and FB15K datasets: \"raw\" MRR (mean reciprocal rank), \"filtered\" MRR and filtered Hits at {1, 3, 10}.\n",
    "\n",
    "|dataset|raw MRR|filtered MRR|hits at 1|hits at 3|hits at 10|\n",
    "|---|---|---|---|---|---|\n",
    "|WN18|0.587|0.941|0.936|0.945|0.947|\n",
    "|FB15K|0.242|0.692|0.599|0.759|0.850|\n",
    "\n",
    "This notebook measures all of these (and the \"raw\" Hits at {1, 3, 10} too)."
   ]
  },
  {
   "cell_type": "code",
   "execution_count": 6,
   "metadata": {},
   "outputs": [],
   "source": [
    "from stellargraph import datasets\n",
    "from tensorflow.keras import layers, optimizers, losses, metrics, regularizers, Model, utils\n",
    "import numpy as np\n",
    "import pandas as pd\n",
    "\n",
    "from stellargraph.mapper import KGTripleGenerator\n",
    "from stellargraph.layer import ComplEx\n",
    "\n",
    "import timeit\n",
    "from IPython.display import Markdown"
   ]
  },
  {
   "cell_type": "markdown",
   "metadata": {},
   "source": [
    "## Initialisation\n",
    "\n",
    "We need to set up our model parameters, like the number of epochs to train for, and the dimension of the embedding vectors we compute for each node and for each edge type. We'll also define a function to do our evaluation, so we can easily apply it to both WN18 and FB15k.\n",
    "\n",
    "The evaluation is performed in four main steps:\n",
    "\n",
    "1. **load the data into a graph**: the `WN18` and `FB15k` dataset loaders from `stellargraph.datasets` automatically download and parse the dataset, so the code for this is compact and efficient. This includes reading the pre-defined train, test and validation sets specified within the dataset.\n",
    "2. **create the `ComplEx` model**: the model consists of some embedding layers and a scoring layer, but the `ComplEx` object means these details are invisible to us. The `ComplEx` model consumes \"knowledge-graph triples\", which can be produced in the appropriate format using `KGTripleGenerator`.\n",
    "3. **train the model using the train and validation sets**: inputs for training are produced by calling the `KGTripleGenerator.flow` method, this takes a dataframe with `source`, `label` and `target` columns, where each row is a true edge in the knowledge graph. The `negative_samples` parameter controls how many random edges are created for each positive edge to use as negative examples for training.\n",
    "4. **calculate the edge rankings on the test set**: the algorithms are evaluated by taking each test edge `E = (s, r, o)`, and scoring it against all mutations `(s, r, n)` and `(n, r, o)` for every node `n` in the graph, that is, doing a prediction for every one of these edges similar to `E`. The \"raw\" rank is the number of mutated edges that have a higher predicted score than the true `E`, and the \"filtered\" rank is the number of mutated edges that aren't known (aren't in the train, test or validation datasets) that have a higher predicted score than `E`. The `ComplEx.rank_edges_against_all_nodes` packages up this computation in a way that is very much more efficient than calling `model.predict` manually, and returns the raw and filtered ranks for each edge in the test set.\n",
    "\n",
    "The paper describes using the AdaGrad optimiser for 1000 epochs with an early stopping criterion evaluated every 50 epochs. We've found using the Adam optimiser allows for much fewer epochs. The paper says that the best choices of embedding dimension are generally 150 or 200, with close results. The paper evaluated using 1, 2, 5 and 10 negative samples, and found that using 10 improved performance on FB15k noticably (comparing to 1), but did not make much difference on WN18."
   ]
  },
  {
   "cell_type": "code",
   "execution_count": 34,
   "metadata": {
    "tags": [
     "parameters"
    ]
   },
   "outputs": [],
   "source": [
    "epochs = 20\n",
    "embedding_dimension = 200\n",
    "negative_samples = 10"
   ]
  },
  {
   "cell_type": "code",
   "execution_count": 35,
   "metadata": {},
   "outputs": [],
   "source": [
    "import matplotlib.pyplot as plt\n",
    "%matplotlib inline\n",
    "\n",
    "def remove_prefix(text, prefix):\n",
    "    return text[text.startswith(prefix) and len(prefix):]\n",
    "\n",
    "def plot_history(history):\n",
    "    metrics = sorted(set([remove_prefix(m, \"val_\") for m in list(history.history.keys())]))\n",
    "    for m in metrics:\n",
    "        # summarize history for metric m\n",
    "        plt.plot(history.history[m])\n",
    "        plt.plot(history.history['val_' + m])\n",
    "        plt.title(m)\n",
    "        plt.ylabel(m)\n",
    "        plt.xlabel('epoch')\n",
    "        plt.legend(['train', 'validation'], loc='best')\n",
    "        plt.show()"
   ]
  },
  {
   "cell_type": "code",
   "execution_count": 36,
   "metadata": {},
   "outputs": [],
   "source": [
    "def summarise(ranks):\n",
    "    return {\"mrr\": np.mean(1 / ranks), \"hits at 1\": np.mean(ranks <= 1), \"hits at 3\": np.mean(ranks <= 3), \"hits at 10\": np.mean(ranks <= 10)}\n",
    "    \n",
    "def run_evaluation(dataset):\n",
    "    display(Markdown(\"### 1. Loading data\"))\n",
    "    start = timeit.default_timer()\n",
    "    g, (train, test, valid) = dataset.load()\n",
    "    end = timeit.default_timer()\n",
    "    display(Markdown(f\"Loading took {end - start:.1f} seconds.\"))\n",
    "    \n",
    "    display(Markdown(\"### 2. Creating model\"))\n",
    "    gen = KGTripleGenerator(g, batch_size=len(train)//100) # ~100 batches per epoch\n",
    "    complex_model = ComplEx(gen, k=embedding_dimension)\n",
    "    \n",
    "    x_inp, x_out = complex_model.build()\n",
    "    \n",
    "    model = Model(inputs=x_inp, outputs=x_out)\n",
    "    model.compile(\n",
    "        optimizer=optimizers.Adam(lr=0.01),\n",
    "        loss=losses.BinaryCrossentropy(from_logits=True),\n",
    "        metrics=[metrics.BinaryAccuracy(threshold=0.)],\n",
    "    )\n",
    "    \n",
    "    display(Markdown(\"### 3. Training\"))\n",
    "    history = model.fit(\n",
    "        gen.flow(train, negative_samples=negative_samples, shuffle=True), \n",
    "        validation_data=gen.flow(valid, negative_samples=negative_samples), \n",
    "        epochs=epochs\n",
    "    )\n",
    "    \n",
    "    # show how the metrics evolve for each epoch\n",
    "    plot_history(history)\n",
    "    \n",
    "    display(Markdown(\"### 4. Ranking\"))\n",
    "    \n",
    "    start = timeit.default_timer()\n",
    "    raw, filtered = ComplEx.rank_edges_against_all_nodes(model, gen.flow(test), g)\n",
    "    end = timeit.default_timer()\n",
    "    \n",
    "    display(Markdown(f\"Ranking took {end - start:.1f} seconds.\"))\n",
    "    \n",
    "    return pd.DataFrame([summarise(raw), summarise(filtered)], index=[\"raw\", \"filtered\"])"
   ]
  },
  {
   "cell_type": "markdown",
   "metadata": {},
   "source": [
    "## Evaluation"
   ]
  },
  {
   "cell_type": "code",
   "execution_count": 37,
   "metadata": {},
   "outputs": [
    {
     "data": {
      "text/markdown": [
       "### 1. Loading data"
      ],
      "text/plain": [
       "<IPython.core.display.Markdown object>"
      ]
     },
     "metadata": {},
     "output_type": "display_data"
    },
    {
     "data": {
      "text/markdown": [
       "Loading took 0.7 seconds."
      ],
      "text/plain": [
       "<IPython.core.display.Markdown object>"
      ]
     },
     "metadata": {},
     "output_type": "display_data"
    },
    {
     "data": {
      "text/markdown": [
       "### 2. Creating model"
      ],
      "text/plain": [
       "<IPython.core.display.Markdown object>"
      ]
     },
     "metadata": {},
     "output_type": "display_data"
    },
    {
     "data": {
      "text/markdown": [
       "### 3. Training"
      ],
      "text/plain": [
       "<IPython.core.display.Markdown object>"
      ]
     },
     "metadata": {},
     "output_type": "display_data"
    },
    {
     "name": "stdout",
     "output_type": "stream",
     "text": [
      "Train for 101 steps, validate for 4 steps\n",
      "Epoch 1/20\n",
      "101/101 [==============================] - 27s 270ms/step - loss: 0.6930 - binary_accuracy: 0.5098 - val_loss: 0.6918 - val_binary_accuracy: 0.5410\n",
      "Epoch 2/20\n",
      "101/101 [==============================] - 26s 256ms/step - loss: 0.4313 - binary_accuracy: 0.8393 - val_loss: 0.1589 - val_binary_accuracy: 0.9564\n",
      "Epoch 3/20\n",
      "101/101 [==============================] - 27s 264ms/step - loss: 0.0524 - binary_accuracy: 0.9882 - val_loss: 0.0484 - val_binary_accuracy: 0.9920\n",
      "Epoch 4/20\n",
      "101/101 [==============================] - 26s 260ms/step - loss: 0.0116 - binary_accuracy: 0.9988 - val_loss: 0.0428 - val_binary_accuracy: 0.9938\n",
      "Epoch 5/20\n",
      "101/101 [==============================] - 27s 272ms/step - loss: 0.0086 - binary_accuracy: 0.9990 - val_loss: 0.0462 - val_binary_accuracy: 0.9939\n",
      "Epoch 6/20\n",
      "101/101 [==============================] - 28s 277ms/step - loss: 0.0079 - binary_accuracy: 0.9990 - val_loss: 0.0470 - val_binary_accuracy: 0.9938\n",
      "Epoch 7/20\n",
      "101/101 [==============================] - 29s 288ms/step - loss: 0.0075 - binary_accuracy: 0.9990 - val_loss: 0.0483 - val_binary_accuracy: 0.9935\n",
      "Epoch 8/20\n",
      "101/101 [==============================] - 29s 286ms/step - loss: 0.0077 - binary_accuracy: 0.9990 - val_loss: 0.0463 - val_binary_accuracy: 0.9939\n",
      "Epoch 9/20\n",
      "101/101 [==============================] - 29s 292ms/step - loss: 0.0076 - binary_accuracy: 0.9990 - val_loss: 0.0465 - val_binary_accuracy: 0.9937\n",
      "Epoch 10/20\n",
      "101/101 [==============================] - 29s 287ms/step - loss: 0.0077 - binary_accuracy: 0.9990 - val_loss: 0.0459 - val_binary_accuracy: 0.9938\n",
      "Epoch 11/20\n",
      "101/101 [==============================] - 26s 261ms/step - loss: 0.0069 - binary_accuracy: 0.9991 - val_loss: 0.0520 - val_binary_accuracy: 0.9937\n",
      "Epoch 12/20\n",
      "101/101 [==============================] - 27s 269ms/step - loss: 0.0075 - binary_accuracy: 0.9990 - val_loss: 0.0494 - val_binary_accuracy: 0.9936\n",
      "Epoch 13/20\n",
      "101/101 [==============================] - 27s 270ms/step - loss: 0.0081 - binary_accuracy: 0.9990 - val_loss: 0.0500 - val_binary_accuracy: 0.9935\n",
      "Epoch 14/20\n",
      "101/101 [==============================] - 27s 271ms/step - loss: 0.0066 - binary_accuracy: 0.9991 - val_loss: 0.0522 - val_binary_accuracy: 0.9935\n",
      "Epoch 15/20\n",
      "101/101 [==============================] - 27s 271ms/step - loss: 0.0070 - binary_accuracy: 0.9990 - val_loss: 0.0523 - val_binary_accuracy: 0.9938\n",
      "Epoch 16/20\n",
      "101/101 [==============================] - 27s 270ms/step - loss: 0.0074 - binary_accuracy: 0.9990 - val_loss: 0.0498 - val_binary_accuracy: 0.9937\n",
      "Epoch 17/20\n",
      "101/101 [==============================] - 28s 274ms/step - loss: 0.0075 - binary_accuracy: 0.9989 - val_loss: 0.0496 - val_binary_accuracy: 0.9938\n",
      "Epoch 18/20\n",
      "101/101 [==============================] - 27s 271ms/step - loss: 0.0071 - binary_accuracy: 0.9990 - val_loss: 0.0503 - val_binary_accuracy: 0.9937\n",
      "Epoch 19/20\n",
      "101/101 [==============================] - 28s 277ms/step - loss: 0.0067 - binary_accuracy: 0.9991 - val_loss: 0.0492 - val_binary_accuracy: 0.9939\n",
      "Epoch 20/20\n",
      "101/101 [==============================] - 28s 277ms/step - loss: 0.0062 - binary_accuracy: 0.9991 - val_loss: 0.0546 - val_binary_accuracy: 0.9935\n"
     ]
    },
    {
     "data": {
      "image/png": "[encoded data removed]",
      "text/plain": [
       "<Figure size 432x288 with 1 Axes>"
      ]
     },
     "metadata": {
      "needs_background": "light"
     },
     "output_type": "display_data"
    },
    {
     "data": {
      "image/png": "[encoded data removed]",
      "text/plain": [
       "<Figure size 432x288 with 1 Axes>"
      ]
     },
     "metadata": {
      "needs_background": "light"
     },
     "output_type": "display_data"
    },
    {
     "data": {
      "text/markdown": [
       "### 4. Ranking"
      ],
      "text/plain": [
       "<IPython.core.display.Markdown object>"
      ]
     },
     "metadata": {},
     "output_type": "display_data"
    },
    {
     "data": {
      "text/markdown": [
       "Ranking took 6.4 seconds."
      ],
      "text/plain": [
       "<IPython.core.display.Markdown object>"
      ]
     },
     "metadata": {},
     "output_type": "display_data"
    }
   ],
   "source": [
    "wn18 = run_evaluation(datasets.WN18())"
   ]
  },
  {
   "cell_type": "code",
   "execution_count": 28,
   "metadata": {},
   "outputs": [
    {
     "data": {
      "text/markdown": [
       "### Loading data"
      ],
      "text/plain": [
       "<IPython.core.display.Markdown object>"
      ]
     },
     "metadata": {},
     "output_type": "display_data"
    },
    {
     "data": {
      "text/markdown": [
       "Loading took 5.0 seconds."
      ],
      "text/plain": [
       "<IPython.core.display.Markdown object>"
      ]
     },
     "metadata": {},
     "output_type": "display_data"
    },
    {
     "data": {
      "text/markdown": [
       "### Creating model"
      ],
      "text/plain": [
       "<IPython.core.display.Markdown object>"
      ]
     },
     "metadata": {},
     "output_type": "display_data"
    },
    {
     "data": {
      "text/markdown": [
       "### Training"
      ],
      "text/plain": [
       "<IPython.core.display.Markdown object>"
      ]
     },
     "metadata": {},
     "output_type": "display_data"
    },
    {
     "name": "stdout",
     "output_type": "stream",
     "text": [
      "Train for 101 steps, validate for 11 steps\n",
      "Epoch 1/10\n",
      "101/101 [==============================] - 2s 24ms/step - loss: 0.6926 - binary_accuracy: 0.5376 - val_loss: 0.6807 - val_binary_accuracy: 0.8644\n",
      "Epoch 2/10\n",
      "101/101 [==============================] - 2s 16ms/step - loss: 0.3547 - binary_accuracy: 0.9080 - val_loss: 0.2155 - val_binary_accuracy: 0.9181\n",
      "Epoch 3/10\n",
      "101/101 [==============================] - 2s 16ms/step - loss: 0.1698 - binary_accuracy: 0.9291 - val_loss: 0.1449 - val_binary_accuracy: 0.9360\n",
      "Epoch 4/10\n",
      "101/101 [==============================] - 2s 16ms/step - loss: 0.1321 - binary_accuracy: 0.9405 - val_loss: 0.1272 - val_binary_accuracy: 0.9421\n",
      "Epoch 5/10\n",
      "101/101 [==============================] - 2s 16ms/step - loss: 0.1189 - binary_accuracy: 0.9453 - val_loss: 0.1183 - val_binary_accuracy: 0.9457\n",
      "Epoch 6/10\n",
      "101/101 [==============================] - 2s 17ms/step - loss: 0.1118 - binary_accuracy: 0.9483 - val_loss: 0.1136 - val_binary_accuracy: 0.9478\n",
      "Epoch 7/10\n",
      "101/101 [==============================] - 2s 17ms/step - loss: 0.1069 - binary_accuracy: 0.9504 - val_loss: 0.1101 - val_binary_accuracy: 0.9492\n",
      "Epoch 8/10\n",
      "101/101 [==============================] - 2s 17ms/step - loss: 0.1041 - binary_accuracy: 0.9518 - val_loss: 0.1072 - val_binary_accuracy: 0.9503\n",
      "Epoch 9/10\n",
      "101/101 [==============================] - 2s 18ms/step - loss: 0.1007 - binary_accuracy: 0.9532 - val_loss: 0.1045 - val_binary_accuracy: 0.9518\n",
      "Epoch 10/10\n",
      "101/101 [==============================] - 2s 17ms/step - loss: 0.0983 - binary_accuracy: 0.9543 - val_loss: 0.1030 - val_binary_accuracy: 0.9528\n"
     ]
    },
    {
     "data": {
      "image/png": "[encoded data removed]",
      "text/plain": [
       "<Figure size 432x288 with 1 Axes>"
      ]
     },
     "metadata": {
      "needs_background": "light"
     },
     "output_type": "display_data"
    },
    {
     "data": {
      "image/png": "[encoded data removed]",
      "text/plain": [
       "<Figure size 432x288 with 1 Axes>"
      ]
     },
     "metadata": {
      "needs_background": "light"
     },
     "output_type": "display_data"
    },
    {
     "data": {
      "text/markdown": [
       "### Ranking"
      ],
      "text/plain": [
       "<IPython.core.display.Markdown object>"
      ]
     },
     "metadata": {},
     "output_type": "display_data"
    },
    {
     "data": {
      "text/markdown": [
       "Ranking took 44.7 seconds."
      ],
      "text/plain": [
       "<IPython.core.display.Markdown object>"
      ]
     },
     "metadata": {},
     "output_type": "display_data"
    }
   ],
   "source": [
    "fb15k = run_evaluation(datasets.FB15k())"
   ]
  },
  {
   "cell_type": "markdown",
   "metadata": {},
   "source": [
    "## Results"
   ]
  },
  {
   "cell_type": "markdown",
   "metadata": {},
   "source": [
    "The raw MRR numbers are similar to the reported numbers in the paper, but the filtered metrics are very different."
   ]
  },
  {
   "cell_type": "code",
   "execution_count": 29,
   "metadata": {},
   "outputs": [
    {
     "data": {
      "text/html": [
       "<style  type=\"text/css\" >\n",
       "</style><table id=\"T_f21caec0_5392_11ea_890a_acde48001122\" ><thead>    <tr>        <th class=\"blank level0\" ></th>        <th class=\"col_heading level0 col0\" >mrr</th>        <th class=\"col_heading level0 col1\" >hits at 1</th>        <th class=\"col_heading level0 col2\" >hits at 3</th>        <th class=\"col_heading level0 col3\" >hits at 10</th>    </tr></thead><tbody>\n",
       "                <tr>\n",
       "                        <th id=\"T_f21caec0_5392_11ea_890a_acde48001122level0_row0\" class=\"row_heading level0 row0\" >raw</th>\n",
       "                        <td id=\"T_f21caec0_5392_11ea_890a_acde48001122row0_col0\" class=\"data row0 col0\" >0.0508992</td>\n",
       "                        <td id=\"T_f21caec0_5392_11ea_890a_acde48001122row0_col1\" class=\"data row0 col1\" >0.0261</td>\n",
       "                        <td id=\"T_f21caec0_5392_11ea_890a_acde48001122row0_col2\" class=\"data row0 col2\" >0.0498</td>\n",
       "                        <td id=\"T_f21caec0_5392_11ea_890a_acde48001122row0_col3\" class=\"data row0 col3\" >0.0912</td>\n",
       "            </tr>\n",
       "            <tr>\n",
       "                        <th id=\"T_f21caec0_5392_11ea_890a_acde48001122level0_row1\" class=\"row_heading level0 row1\" >filtered</th>\n",
       "                        <td id=\"T_f21caec0_5392_11ea_890a_acde48001122row1_col0\" class=\"data row1 col0\" >0.0509566</td>\n",
       "                        <td id=\"T_f21caec0_5392_11ea_890a_acde48001122row1_col1\" class=\"data row1 col1\" >0.0261</td>\n",
       "                        <td id=\"T_f21caec0_5392_11ea_890a_acde48001122row1_col2\" class=\"data row1 col2\" >0.0498</td>\n",
       "                        <td id=\"T_f21caec0_5392_11ea_890a_acde48001122row1_col3\" class=\"data row1 col3\" >0.0912</td>\n",
       "            </tr>\n",
       "    </tbody></table>"
      ],
      "text/plain": [
       "<pandas.io.formats.style.Styler at 0x158eed160>"
      ]
     },
     "execution_count": 29,
     "metadata": {},
     "output_type": "execute_result"
    }
   ],
   "source": [
    "wn18.style"
   ]
  },
  {
   "cell_type": "code",
   "execution_count": 30,
   "metadata": {},
   "outputs": [
    {
     "data": {
      "text/html": [
       "<style  type=\"text/css\" >\n",
       "</style><table id=\"T_f25b31ae_5392_11ea_8d94_acde48001122\" ><thead>    <tr>        <th class=\"blank level0\" ></th>        <th class=\"col_heading level0 col0\" >mrr</th>        <th class=\"col_heading level0 col1\" >hits at 1</th>        <th class=\"col_heading level0 col2\" >hits at 3</th>        <th class=\"col_heading level0 col3\" >hits at 10</th>    </tr></thead><tbody>\n",
       "                <tr>\n",
       "                        <th id=\"T_f25b31ae_5392_11ea_8d94_acde48001122level0_row0\" class=\"row_heading level0 row0\" >raw</th>\n",
       "                        <td id=\"T_f25b31ae_5392_11ea_8d94_acde48001122row0_col0\" class=\"data row0 col0\" >0.0816308</td>\n",
       "                        <td id=\"T_f25b31ae_5392_11ea_8d94_acde48001122row0_col1\" class=\"data row0 col1\" >0.0312336</td>\n",
       "                        <td id=\"T_f25b31ae_5392_11ea_8d94_acde48001122row0_col2\" class=\"data row0 col2\" >0.0769244</td>\n",
       "                        <td id=\"T_f25b31ae_5392_11ea_8d94_acde48001122row0_col3\" class=\"data row0 col3\" >0.179716</td>\n",
       "            </tr>\n",
       "            <tr>\n",
       "                        <th id=\"T_f25b31ae_5392_11ea_8d94_acde48001122level0_row1\" class=\"row_heading level0 row1\" >filtered</th>\n",
       "                        <td id=\"T_f25b31ae_5392_11ea_8d94_acde48001122row1_col0\" class=\"data row1 col0\" >0.0998631</td>\n",
       "                        <td id=\"T_f25b31ae_5392_11ea_8d94_acde48001122row1_col1\" class=\"data row1 col1\" >0.0503801</td>\n",
       "                        <td id=\"T_f25b31ae_5392_11ea_8d94_acde48001122row1_col2\" class=\"data row1 col2\" >0.0948266</td>\n",
       "                        <td id=\"T_f25b31ae_5392_11ea_8d94_acde48001122row1_col3\" class=\"data row1 col3\" >0.19755</td>\n",
       "            </tr>\n",
       "    </tbody></table>"
      ],
      "text/plain": [
       "<pandas.io.formats.style.Styler at 0x14d48bd30>"
      ]
     },
     "execution_count": 30,
     "metadata": {},
     "output_type": "execute_result"
    }
   ],
   "source": [
    "fb15k.style"
   ]
  },
  {
   "cell_type": "code",
   "execution_count": null,
   "metadata": {},
   "outputs": [],
   "source": []
  }
 ],
 "metadata": {
  "kernelspec": {
   "display_name": "sg4",
   "language": "python",
   "name": "sg4"
  },
  "language_info": {
   "codemirror_mode": {
    "name": "ipython",
    "version": 3
   },
   "file_extension": ".py",
   "mimetype": "text/x-python",
   "name": "python",
   "nbconvert_exporter": "python",
   "pygments_lexer": "ipython3",
   "version": "3.6.9"
  }
 },
 "nbformat": 4,
 "nbformat_minor": 4
}
